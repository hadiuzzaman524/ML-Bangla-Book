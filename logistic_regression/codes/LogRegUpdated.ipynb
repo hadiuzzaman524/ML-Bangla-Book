{
 "cells": [
  {
   "cell_type": "markdown",
   "metadata": {},
   "source": [
    "# Loading Important Libraries"
   ]
  },
  {
   "cell_type": "code",
   "execution_count": 2,
   "metadata": {
    "collapsed": true
   },
   "outputs": [],
   "source": [
    "%matplotlib inline\n",
    "import numpy as np\n",
    "from sklearn.datasets import load_digits\n",
    "import numpy as np\n",
    "import matplotlib.pyplot as plt\n",
    "import math"
   ]
  },
  {
   "cell_type": "code",
   "execution_count": 3,
   "metadata": {
    "collapsed": true
   },
   "outputs": [],
   "source": [
    "# Loading Ones and Zeros only\n",
    "X, y = load_digits(n_class=2, return_X_y=True)"
   ]
  },
  {
   "cell_type": "code",
   "execution_count": 8,
   "metadata": {},
   "outputs": [
    {
     "name": "stdout",
     "output_type": "stream",
     "text": [
      "(360, 64)\n"
     ]
    }
   ],
   "source": [
    "# Viewing the dataset\n",
    "print(X.shape)"
   ]
  },
  {
   "cell_type": "code",
   "execution_count": 9,
   "metadata": {
    "collapsed": true
   },
   "outputs": [],
   "source": [
    "num_samples = X.shape[0]\n",
    "image_size = X.shape[1]"
   ]
  },
  {
   "cell_type": "code",
   "execution_count": 10,
   "metadata": {},
   "outputs": [
    {
     "name": "stdout",
     "output_type": "stream",
     "text": [
      "[  0.   0.   5.  13.   9.   1.   0.   0.   0.   0.  13.  15.  10.  15.   5.\n",
      "   0.   0.   3.  15.   2.   0.  11.   8.   0.   0.   4.  12.   0.   0.   8.\n",
      "   8.   0.   0.   5.   8.   0.   0.   9.   8.   0.   0.   4.  11.   0.   1.\n",
      "  12.   7.   0.   0.   2.  14.   5.  10.  12.   0.   0.   0.   0.   6.  13.\n",
      "  10.   0.   0.   0.]\n"
     ]
    }
   ],
   "source": [
    "# Printing first image of given dataset\n",
    "print(X[0])"
   ]
  },
  {
   "cell_type": "code",
   "execution_count": 11,
   "metadata": {},
   "outputs": [
    {
     "data": {
      "text/plain": [
       "<matplotlib.image.AxesImage at 0x23da5fe36d8>"
      ]
     },
     "execution_count": 11,
     "metadata": {},
     "output_type": "execute_result"
    },
    {
     "data": {
      "image/png": "[encoded data removed]",
      "text/plain": [
       "<matplotlib.figure.Figure at 0x23da5ce3ba8>"
      ]
     },
     "metadata": {},
     "output_type": "display_data"
    }
   ],
   "source": [
    "plt.imshow(X[0].reshape(8, 8), cmap=plt.cm.gray)"
   ]
  },
  {
   "cell_type": "code",
   "execution_count": 27,
   "metadata": {
    "collapsed": true
   },
   "outputs": [],
   "source": [
    "# Creating weight vector [without bias or Theta_0]\n",
    "W = np.ones(image_size)"
   ]
  },
  {
   "cell_type": "code",
   "execution_count": 22,
   "metadata": {
    "collapsed": true
   },
   "outputs": [],
   "source": [
    "# Sigmoid function [non-optimized, overflow might occur]\n",
    "def _sigmoid(z):\n",
    "    return 1.0 / (1 + math.exp(-z))"
   ]
  },
  {
   "cell_type": "code",
   "execution_count": 23,
   "metadata": {
    "collapsed": true
   },
   "outputs": [],
   "source": [
    "# Function for prediction\n",
    "def _predict(x, w):\n",
    "    _sum = 0\n",
    "    for _x, _w in zip(x, w):\n",
    "        _sum += _x * _w\n",
    "    return _sigmoid(_sum)"
   ]
  },
  {
   "cell_type": "code",
   "execution_count": 24,
   "metadata": {
    "collapsed": true
   },
   "outputs": [],
   "source": [
    "# Function for computing loss\n",
    "def _computeCost(X, W, y):\n",
    "    # Number of data / rows\n",
    "    m = len(X)\n",
    "    \n",
    "    #loss [obvious!]\n",
    "    loss = []\n",
    "    \n",
    "    # Computing the prediction\n",
    "    yHat = [_predict(X[i], W) for i in range(m)]\n",
    "    \n",
    "    # Clipping the prediction between 0.01 and 0.99 to avoid 'divide by zero'\n",
    "    for i, _y in enumerate(yHat):\n",
    "        if (_y == 1):\n",
    "            yHat[i] = 0.99\n",
    "        elif (_y == 0):\n",
    "            yHat[i] = 0.01\n",
    "        else:\n",
    "            pass\n",
    "    \n",
    "    # Computing the loss using log-loss \n",
    "    for _y, _yHat in zip(y, yHat):\n",
    "        log_loss = _y * math.log(_yHat) + (1 - _y) * math.log(1 - _yHat)\n",
    "        loss.append(log_loss)\n",
    "        \n",
    "    return -sum(loss) / (len(loss))"
   ]
  },
  {
   "cell_type": "code",
   "execution_count": 25,
   "metadata": {},
   "outputs": [],
   "source": [
    "# Compute gradient\n",
    "# Takes one row of x and y\n",
    "def _computeGradient(x, W, y):\n",
    "    \n",
    "    if (type(y) == np.ndarray):\n",
    "        raise TypeError(\"'y' can't be array\")\n",
    "    \n",
    "    yHat = _predict(x, W)\n",
    "    \n",
    "    # Gradient array\n",
    "    gradW = []\n",
    "    \n",
    "    # Computing the gradients\n",
    "    for _x in x:\n",
    "        # For gradient ascent y - yHat\n",
    "        # For gradient descent yHat - y\n",
    "        gradW.append( (y - yHat) * _x )\n",
    "    \n",
    "    return np.array(gradW)"
   ]
  },
  {
   "cell_type": "code",
   "execution_count": 72,
   "metadata": {},
   "outputs": [
    {
     "name": "stdout",
     "output_type": "stream",
     "text": [
      "COST:  2.2820818173089377\n",
      "COST:  2.2820818173089377\n",
      "COST:  2.2820818173089377\n",
      "COST:  2.2820818173089377\n",
      "COST:  8.504380349107395\n",
      "COST:  0.9294425442675596\n",
      "COST:  0.23153460465574965\n",
      "COST:  0.15021461191937627\n",
      "COST:  0.12552776486277636\n",
      "COST:  0.1122094079649877\n",
      "COST:  0.10180915767272183\n",
      "COST:  0.09244544226754949\n",
      "COST:  0.08371616578730175\n",
      "COST:  0.07574462500597026\n",
      "COST:  0.06882058260178707\n",
      "COST:  0.06311037042962454\n",
      "COST:  0.05841851935106752\n",
      "COST:  0.05460571861915749\n",
      "COST:  0.051343099158414084\n",
      "COST:  0.048432876207314686\n",
      "COST:  0.04577526314929944\n",
      "COST:  0.043206785355352606\n",
      "COST:  0.04078954025871438\n",
      "COST:  0.03843691408892568\n",
      "COST:  0.036130162722646596\n",
      "COST:  0.0338586533011575\n",
      "COST:  0.03161767285246986\n",
      "COST:  0.029351495360515737\n",
      "COST:  0.027176334840092208\n",
      "COST:  0.025045370208261735\n",
      "COST:  0.022944318750169806\n",
      "COST:  0.020919201416007453\n",
      "COST:  0.01901953994406672\n",
      "COST:  0.017212419230013744\n",
      "COST:  0.015574623495054792\n",
      "COST:  0.014093738970625783\n",
      "COST:  0.01277751532243344\n",
      "COST:  0.011625625390140793\n",
      "COST:  0.010631013227038898\n",
      "COST:  0.009781913323600077\n",
      "COST:  0.009035821178175852\n",
      "COST:  0.008376828958443773\n",
      "COST:  0.00787262741666101\n",
      "COST:  0.007452065070469955\n",
      "COST:  0.007101203852461056\n",
      "COST:  0.006807837688138669\n",
      "COST:  0.006561596462833388\n",
      "COST:  0.00635386679369835\n",
      "COST:  0.006177606019895341\n",
      "COST:  0.006027112782298622\n",
      "COST:  0.005897796229999529\n",
      "COST:  0.005785966544065556\n",
      "COST:  0.005688655893995698\n",
      "COST:  0.005603470963201739\n",
      "COST:  0.005528474236649246\n",
      "COST:  0.005462089760201029\n",
      "COST:  0.005403028908275761\n",
      "COST:  0.0053502321229348575\n",
      "COST:  0.005302823220873911\n",
      "COST:  0.005260073510677936\n",
      "COST:  0.00522137353811541\n",
      "COST:  0.005186210756606254\n",
      "COST:  0.005154151804539789\n",
      "COST:  0.005124828372787228\n",
      "COST:  0.005070008279700107\n",
      "COST:  0.005045256747481279\n",
      "COST:  0.0050224234197241285\n",
      "COST:  0.005001306750701696\n",
      "COST:  0.004981731491586496\n",
      "COST:  0.004963544651831168\n",
      "COST:  0.004946612164133395\n",
      "COST:  0.0049308161175162625\n",
      "COST:  0.0049160524513247135\n",
      "COST:  0.004874311425321255\n",
      "COST:  0.004861346395372245\n",
      "COST:  0.004849166846214703\n",
      "COST:  0.0048377076291465535\n",
      "COST:  0.004826910375108945\n",
      "COST:  0.004816722651744253\n",
      "COST:  0.004807097241178494\n",
      "COST:  0.0047979915191307555\n",
      "COST:  0.004789366919382274\n",
      "COST:  0.004753270870816752\n",
      "COST:  0.004745506793644734\n",
      "COST:  0.004738128151803399\n",
      "COST:  0.004731108545779007\n",
      "COST:  0.004724423845572873\n",
      "COST:  0.004718051955999581\n",
      "COST:  0.004711972610192901\n",
      "COST:  0.0047061671874834106\n",
      "COST:  0.004700618552390377\n",
      "COST:  0.004695310911954045\n",
      "COST:  0.004690229689039147\n",
      "COST:  0.004685361409580793\n",
      "COST:  0.004680693602030504\n",
      "COST:  0.004676214707502508\n",
      "COST:  0.0046719139993257565\n",
      "COST:  0.004667781510881609\n",
      "COST:  0.004663807970755889\n",
      "COST:  0.004659984744360912\n"
     ]
    }
   ],
   "source": [
    "# Implementation of gradient ascent\n",
    "costs = []\n",
    "iteration = 100\n",
    "lr = .0001\n",
    "for k in range(iteration):\n",
    "    for x, _y in zip(X, y):\n",
    "        gradw = _computeGradient(x, W, _y)\n",
    "        for i, w in enumerate(W):\n",
    "            W[i] = W[i] + lr * gradw[i]\n",
    "    cost = _computeCost(X, W, y)\n",
    "    costs.append(cost)\n",
    "    print(\"COST:  {}\".format(cost))"
   ]
  },
  {
   "cell_type": "code",
   "execution_count": 31,
   "metadata": {},
   "outputs": [
    {
     "data": {
      "text/plain": [
       "[<matplotlib.lines.Line2D at 0x23da5d48908>]"
      ]
     },
     "execution_count": 31,
     "metadata": {},
     "output_type": "execute_result"
    },
    {
     "data": {
      "image/png": "[encoded data removed]",
      "text/plain": [
       "<matplotlib.figure.Figure at 0x23da61cf048>"
      ]
     },
     "metadata": {},
     "output_type": "display_data"
    }
   ],
   "source": [
    "plt.plot(list(range(len(costs))), costs)"
   ]
  },
  {
   "cell_type": "code",
   "execution_count": 33,
   "metadata": {},
   "outputs": [],
   "source": [
    "y_pred = [int(_predict(X[i], W)) for i in range(num_samples)]"
   ]
  },
  {
   "cell_type": "code",
   "execution_count": 42,
   "metadata": {},
   "outputs": [],
   "source": [
    "false_prediction = []\n",
    "for j, k in enumerate(y_pred == y):\n",
    "    if (k == False):\n",
    "        false_prediction.append(j)"
   ]
  },
  {
   "cell_type": "code",
   "execution_count": 37,
   "metadata": {},
   "outputs": [
    {
     "data": {
      "text/plain": [
       "0"
      ]
     },
     "execution_count": 37,
     "metadata": {},
     "output_type": "execute_result"
    }
   ],
   "source": [
    "y[0]"
   ]
  },
  {
   "cell_type": "code",
   "execution_count": 44,
   "metadata": {},
   "outputs": [
    {
     "data": {
      "text/plain": [
       "26"
      ]
     },
     "execution_count": 44,
     "metadata": {},
     "output_type": "execute_result"
    }
   ],
   "source": [
    "len(false_indices)"
   ]
  },
  {
   "cell_type": "code",
   "execution_count": 47,
   "metadata": {},
   "outputs": [
    {
     "data": {
      "text/plain": [
       "92.77777777777779"
      ]
     },
     "execution_count": 47,
     "metadata": {},
     "output_type": "execute_result"
    }
   ],
   "source": [
    "(1 - len(false_indices) / num_samples) * 100"
   ]
  },
  {
   "cell_type": "code",
   "execution_count": 48,
   "metadata": {},
   "outputs": [
    {
     "data": {
      "text/plain": [
       "76"
      ]
     },
     "execution_count": 48,
     "metadata": {},
     "output_type": "execute_result"
    }
   ],
   "source": [
    "false_indices[0]"
   ]
  },
  {
   "cell_type": "code",
   "execution_count": 50,
   "metadata": {},
   "outputs": [
    {
     "data": {
      "text/plain": [
       "<matplotlib.image.AxesImage at 0x23da62a1eb8>"
      ]
     },
     "execution_count": 50,
     "metadata": {},
     "output_type": "execute_result"
    },
    {
     "data": {
      "image/png": "[encoded data removed]",
      "text/plain": [
       "<matplotlib.figure.Figure at 0x23da61e3550>"
      ]
     },
     "metadata": {},
     "output_type": "display_data"
    }
   ],
   "source": [
    "plt.imshow(X[76].reshape(8, 8), cmap=plt.cm.gray)"
   ]
  },
  {
   "cell_type": "code",
   "execution_count": 51,
   "metadata": {
    "collapsed": true
   },
   "outputs": [],
   "source": [
    "def imshow(X):\n",
    "    plt.imshow(X.reshape(8, 8), cmap=plt.cm.gray)"
   ]
  },
  {
   "cell_type": "code",
   "execution_count": 52,
   "metadata": {},
   "outputs": [
    {
     "data": {
      "image/png": "[encoded data removed]",
      "text/plain": [
       "<matplotlib.figure.Figure at 0x23da62bf6d8>"
      ]
     },
     "metadata": {},
     "output_type": "display_data"
    }
   ],
   "source": [
    "imshow(X[76])"
   ]
  },
  {
   "cell_type": "code",
   "execution_count": 60,
   "metadata": {},
   "outputs": [
    {
     "name": "stdout",
     "output_type": "stream",
     "text": [
      "Accuracy: 92.77777777777779\n"
     ]
    }
   ],
   "source": [
    "# Perform prediction using existing weight\n",
    "y_pred = [int(_predict(X[i], W)) for i in range(num_samples)]\n",
    "\n",
    "# Get the images where prediction failed\n",
    "false_prediction = []\n",
    "for j, k in enumerate(y_pred == y):\n",
    "    if (k == False):\n",
    "        false_prediction.append(j)\n",
    "\n",
    "print(\"Accuracy: {}\".format((1 - len(false_prediction) / num_samples) * 100))"
   ]
  },
  {
   "cell_type": "code",
   "execution_count": 58,
   "metadata": {},
   "outputs": [
    {
     "data": {
      "image/png": "[encoded data removed]",
      "text/plain": [
       "<matplotlib.figure.Figure at 0x23da7583240>"
      ]
     },
     "metadata": {},
     "output_type": "display_data"
    }
   ],
   "source": [
    "imshow(X[300])"
   ]
  },
  {
   "cell_type": "code",
   "execution_count": 59,
   "metadata": {},
   "outputs": [
    {
     "data": {
      "text/plain": [
       "0"
      ]
     },
     "execution_count": 59,
     "metadata": {},
     "output_type": "execute_result"
    }
   ],
   "source": [
    "int(_predict(X[300], W))"
   ]
  },
  {
   "cell_type": "code",
   "execution_count": 63,
   "metadata": {},
   "outputs": [
    {
     "ename": "SyntaxError",
     "evalue": "invalid syntax (<ipython-input-63-5712b7c46106>, line 1)",
     "output_type": "error",
     "traceback": [
      "\u001b[1;36m  File \u001b[1;32m\"<ipython-input-63-5712b7c46106>\"\u001b[1;36m, line \u001b[1;32m1\u001b[0m\n\u001b[1;33m    false_prediction = [ for j, k in enumerate(y_pred == y)\u001b[0m\n\u001b[1;37m                           ^\u001b[0m\n\u001b[1;31mSyntaxError\u001b[0m\u001b[1;31m:\u001b[0m invalid syntax\n"
     ]
    }
   ],
   "source": [
    "false_prediction = [ for j, k in enumerate(y_pred == y) \n",
    "    if (k == False):\n",
    "        false_prediction.append(j)]"
   ]
  },
  {
   "cell_type": "code",
   "execution_count": 70,
   "metadata": {
    "collapsed": true
   },
   "outputs": [],
   "source": [
    "W = np.ones(64)"
   ]
  },
  {
   "cell_type": "code",
   "execution_count": 73,
   "metadata": {},
   "outputs": [
    {
     "data": {
      "image/png": "[encoded data removed]",
      "text/plain": [
       "<matplotlib.figure.Figure at 0x23da74cfc88>"
      ]
     },
     "metadata": {},
     "output_type": "display_data"
    }
   ],
   "source": [
    "imshow(W)"
   ]
  },
  {
   "cell_type": "code",
   "execution_count": 74,
   "metadata": {},
   "outputs": [
    {
     "data": {
      "text/plain": [
       "0"
      ]
     },
     "execution_count": 74,
     "metadata": {},
     "output_type": "execute_result"
    }
   ],
   "source": [
    "y[0]"
   ]
  },
  {
   "cell_type": "code",
   "execution_count": 85,
   "metadata": {},
   "outputs": [],
   "source": [
    "# Sigmoid\n",
    "def sigmoid(z):\n",
    "    return 1.00 / ( 1 + np.exp(-z))\n",
    "  \n",
    "def predict(X, W):\n",
    "    return sigmoid(np.dot(X, W))\n",
    "\n",
    "def computeGradient(X, y, W):\n",
    "    yHat = predict(X, W)\n",
    "    return np.dot(y - yHat, X)\n",
    "  \n",
    "def computeCost(X, y, W):\n",
    "    yHat = np.clip(predict(X, W), 0.01, 0.99)\n",
    "    first_term = y * np.log(yHat)\n",
    "    second_term = (1 - y) * np.log(1 - yHat)\n",
    "    log_loss = - np.mean(first_term + second_term)\n",
    "    return log_loss"
   ]
  },
  {
   "cell_type": "code",
   "execution_count": 90,
   "metadata": {},
   "outputs": [
    {
     "name": "stdout",
     "output_type": "stream",
     "text": [
      "COST : 2.282081817308937\n",
      "COST : 2.282081817308937\n",
      "COST : 2.282081817308937\n",
      "COST : 2.282081817308937\n",
      "COST : 2.282081817308937\n",
      "COST : 2.2639490180198223\n",
      "COST : 0.036295980559656896\n",
      "COST : 0.03602449147879831\n",
      "COST : 0.03585169111547461\n",
      "COST : 0.03574005238692662\n",
      "COST : 0.03566711071934417\n",
      "COST : 0.03541104616128434\n",
      "COST : 0.03427061749075769\n",
      "COST : 0.03316113699242106\n",
      "COST : 0.032084669410857955\n",
      "COST : 0.031033896960925508\n",
      "COST : 0.030017367840941254\n",
      "COST : 0.02904647604900243\n",
      "COST : 0.027924887036701602\n",
      "COST : 0.026039339875710502\n",
      "COST : 0.024271209469837393\n",
      "COST : 0.02263676336841257\n",
      "COST : 0.021145749481444095\n",
      "COST : 0.01980039720187816\n",
      "COST : 0.018596601456875944\n",
      "COST : 0.017526374380336256\n",
      "COST : 0.01658021089387323\n",
      "COST : 0.01574853024467215\n",
      "COST : 0.015022124717816462\n",
      "COST : 0.01439200633853269\n",
      "COST : 0.013849113000617263\n",
      "COST : 0.013384176363069544\n",
      "COST : 0.012987836684043392\n",
      "COST : 0.012650930029442608\n",
      "COST : 0.01236481601480396\n",
      "COST : 0.012123537390233032\n",
      "COST : 0.011919342492248026\n",
      "COST : 0.011745231236956812\n",
      "COST : 0.011596169377952204\n",
      "COST : 0.01146796454243931\n",
      "COST : 0.011357154234724826\n",
      "COST : 0.011260891947598403\n",
      "COST : 0.01117684182384923\n",
      "COST : 0.01110308652240962\n",
      "COST : 0.011038049402248175\n",
      "COST : 0.010980430246419873\n",
      "COST : 0.01092915291014206\n",
      "COST : 0.010883323040202345\n",
      "COST : 0.01084219408485982\n",
      "COST : 0.010805140019790698\n",
      "COST : 0.010771633461739207\n",
      "COST : 0.010741228080305145\n",
      "COST : 0.010713544429590126\n",
      "COST : 0.010688258499277188\n",
      "COST : 0.010665092430045093\n",
      "COST : 0.010643806954813205\n",
      "COST : 0.010624195219802979\n",
      "COST : 0.010606077712276455\n",
      "COST : 0.010589298079020202\n",
      "COST : 0.01057371966448471\n",
      "COST : 0.01055922263263777\n",
      "COST : 0.010545701564172005\n",
      "COST : 0.010533063442391915\n",
      "COST : 0.010521225958197373\n",
      "COST : 0.010510116078091138\n",
      "COST : 0.010499668829851639\n",
      "COST : 0.010489826269037465\n",
      "COST : 0.010480536596297345\n",
      "COST : 0.010471753400915183\n",
      "COST : 0.010463435010408022\n",
      "COST : 0.010455543929537603\n",
      "COST : 0.01044804635496699\n",
      "COST : 0.01044091175412834\n",
      "COST : 0.010434112498773336\n",
      "COST : 0.010427623545238525\n",
      "COST : 0.01042142215474066\n",
      "COST : 0.010415487648075084\n",
      "COST : 0.010409801189965782\n",
      "COST : 0.010404345599042571\n",
      "COST : 0.01039910518002642\n",
      "COST : 0.010394065575209685\n",
      "COST : 0.010389213632742126\n",
      "COST : 0.010384537289589843\n",
      "COST : 0.010380025467334922\n",
      "COST : 0.010375667979237392\n",
      "COST : 0.010371455447196788\n",
      "COST : 0.010367379227433384\n",
      "COST : 0.01036343134386559\n",
      "COST : 0.010359604428293114\n",
      "COST : 0.010355891666609903\n",
      "COST : 0.010352286750369057\n",
      "COST : 0.010348783833106244\n",
      "COST : 0.01034537749090127\n",
      "COST : 0.010342062686720273\n",
      "COST : 0.010338834738135839\n",
      "COST : 0.010335689288069709\n",
      "COST : 0.010332622278244108\n",
      "COST : 0.010329629925063689\n",
      "COST : 0.010326708697681652\n",
      "COST : 0.010323855298031114\n",
      "COST : 0.010321066642626987\n"
     ]
    }
   ],
   "source": [
    "# Implementation of gradient ascent\n",
    "W = np.ones(image_size)\n",
    "costs = []\n",
    "iteration = 100\n",
    "lr = .0001\n",
    "print(\"COST : {}\".format(computeCost(X, y, W)))\n",
    "for i in range(iteration):\n",
    "    gradW = computeGradient(X, y, W)\n",
    "    W = W  + lr * gradW\n",
    "    print(\"COST : {}\".format(computeCost(X, y, W)))"
   ]
  },
  {
   "cell_type": "code",
   "execution_count": 91,
   "metadata": {
    "collapsed": true
   },
   "outputs": [],
   "source": [
    "ypred = predict(X, W)"
   ]
  },
  {
   "cell_type": "code",
   "execution_count": 93,
   "metadata": {},
   "outputs": [],
   "source": [
    "ypred = [int(y) for y in ypred]"
   ]
  },
  {
   "cell_type": "code",
   "execution_count": 95,
   "metadata": {},
   "outputs": [
    {
     "data": {
      "text/plain": [
       "1"
      ]
     },
     "execution_count": 95,
     "metadata": {},
     "output_type": "execute_result"
    }
   ],
   "source": [
    "y[1]"
   ]
  },
  {
   "cell_type": "code",
   "execution_count": 96,
   "metadata": {},
   "outputs": [
    {
     "data": {
      "image/png": "[encoded data removed]",
      "text/plain": [
       "<matplotlib.figure.Figure at 0x23da76f3da0>"
      ]
     },
     "metadata": {},
     "output_type": "display_data"
    }
   ],
   "source": [
    "imshow(X[1])"
   ]
  },
  {
   "cell_type": "code",
   "execution_count": null,
   "metadata": {
    "collapsed": true
   },
   "outputs": [],
   "source": []
  }
 ],
 "metadata": {
  "kernelspec": {
   "display_name": "Python 3",
   "language": "python",
   "name": "python3"
  },
  "language_info": {
   "codemirror_mode": {
    "name": "ipython",
    "version": 3
   },
   "file_extension": ".py",
   "mimetype": "text/x-python",
   "name": "python",
   "nbconvert_exporter": "python",
   "pygments_lexer": "ipython3",
   "version": "3.6.1"
  }
 },
 "nbformat": 4,
 "nbformat_minor": 2
}
